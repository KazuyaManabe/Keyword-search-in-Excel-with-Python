{
 "cells": [
  {
   "cell_type": "code",
   "execution_count": null,
   "metadata": {},
   "outputs": [],
   "source": [
    "#テキストマイニング\n",
    "#Excelの文字をすべて半角に\n",
    "#=ASC(JIS(LEFT(D2,255)))&ASC(JIS(MID(D2,256,255)))"
   ]
  },
  {
   "cell_type": "code",
   "execution_count": null,
   "metadata": {},
   "outputs": [],
   "source": [
    "wb_name = \".xlsx\"\n",
    "ws_name = ''\n",
    "\n",
    "#対象のExcel列名\n",
    "comment_column_name = \"\"\n",
    "target_col = \"\""
   ]
  },
  {
   "cell_type": "code",
   "execution_count": null,
   "metadata": {
    "tags": [
     "outputPrepend"
    ]
   },
   "outputs": [],
   "source": [
    "import pandas as pd\n",
    "original_data = pd.read_excel(wb_name,sheet_name = ws_name)\n",
    "#print(len(original_data))\n",
    "#original_data.head()"
   ]
  },
  {
   "cell_type": "code",
   "execution_count": null,
   "metadata": {},
   "outputs": [],
   "source": [
    "import MeCab\n",
    "tagger = MeCab.Tagger()#入力文字にタグをつける解析器"
   ]
  },
  {
   "cell_type": "code",
   "execution_count": null,
   "metadata": {},
   "outputs": [],
   "source": [
    "#除去したい言葉の決定\n",
    "stop_words = [\"%\",\"%)\",\"&\",\"(\",\")\",\"｡(\",\"｡)\",\"､｢\",\"<\",\">\",\"｢\",\"｣\",\"｣､\",\"｣｢\",\"?｣\",\"?\",\")、\",\"､\",\"｡\",\"･\",\",\",\"-\",\"~\",\"~)\",\"~:\",\"一\",\".\",\"/\",\":\",\";\",\"±\",\"+\",\"=\",\"Ⅱ\",\"⇒\",\"①\",\"①【\",\"②\",\"､②\",\"｡②\",\"②【\",\"③\",\"､③\",\"④\",\"!\",\"!!\",\"(｢\",\")(\",\"))\",\"):\",\")｡\",\")､\",\"､､\",\"*\",\"あ\",\"い\",\"こ\",\"し\",\"た\",\"み\",\"の\",\"いき\",\"こと\",\"なり\",\"よう\",\"的\"]\n",
    "\n",
    "#追加\n",
    "\"\"\"\n",
    "｣､｢\n",
    "\"\"\""
   ]
  },
  {
   "cell_type": "code",
   "execution_count": null,
   "metadata": {},
   "outputs": [],
   "source": [
    "#必要な品詞を登録\n",
    "parts = [\"名詞\",\"動詞\"]\n",
    "not_noun_or_verb_but = [\"なし\"]"
   ]
  },
  {
   "cell_type": "code",
   "execution_count": null,
   "metadata": {},
   "outputs": [],
   "source": [
    "keywords_groups_names = [\n",
    "\"1 \",\n",
    "\"2 \",\n",
    "\"3 \",\n",
    "\"4 \",\n",
    "\"5 \",\n",
    "\"6 \",\n",
    "\"7 \",\n",
    "\"8 \",\n",
    "\"9 \",\n",
    "\"10 \"\n",
    "]\n",
    "\n",
    "#キーワード登録\n",
    "category1 = [\"\"]\n",
    "category2 = [\"\"]\n",
    "category3 = [\"\"]\n",
    "category4 = [\"\"]\n",
    "category5 = [\"\"]\n",
    "category6 = [\"\"]\n",
    "category7 = [\"\"]\n",
    "category8 = [\"\"]\n",
    "category9 = [\"\"]\n",
    "category10 = [\"\"]"
   ]
  },
  {
   "cell_type": "code",
   "execution_count": null,
   "metadata": {},
   "outputs": [],
   "source": [
    "#全カテゴリーを一つのカテゴリーリストにする\n",
    "keywords_groups = [category1,category2,category3,category4,category5,category6,category7,category8,category9,category10]"
   ]
  },
  {
   "cell_type": "code",
   "execution_count": null,
   "metadata": {},
   "outputs": [],
   "source": [
    "#解析結果を記録するpandas表を作る\n",
    "words_df = pd.DataFrame()\n",
    "\n",
    "#カテゴリーを大きな表に加える\n",
    "for j in range(len(keywords_groups_names)):\n",
    "    words_df[keywords_groups_names[j]] = [0]\n",
    "words_df.head()"
   ]
  },
  {
   "cell_type": "code",
   "execution_count": null,
   "metadata": {
    "tags": []
   },
   "outputs": [],
   "source": [
    "#大きな表\n",
    "all_words_df= pd.DataFrame()\n",
    "\n",
    "#Excelの行ごとに処理\n",
    "for row in range(len(original_data)):#アンケートの行ごとに\n",
    "    text = original_data[comment_column_name].iloc[row]#行ごとの自由記述の取得\n",
    "    words = tagger.parse(text).splitlines()#自由記述を形態素解析\n",
    "#抽出した単語を入れる表\n",
    "    words_df = pd.DataFrame()#行ごとの単語を入れる表\n",
    "#辞書情報を付けた単語ごとに\n",
    "    for i in words:#解析した辞書情報付き単語毎に\n",
    "        if i == \"EOS\" or i == \"\":\n",
    "            continue#EOSと空欄は飛ばす\n",
    "        word_tmp = i.split()[0]#単語を取得\n",
    "        if word_tmp in not_noun_or_verb_but:\n",
    "            words_df[word_tmp] = [1]#名詞と動詞以外の指定単語を一時リストに入れる\n",
    "        part = i.split()[1].split(\",\")[0]#品詞を取得(確認済み)\n",
    "        if not (part in parts):\n",
    "            continue#登録した品詞以外ならfor i に戻る\n",
    "        if word_tmp in stop_words:\n",
    "            continue#登録した単語ならfor i に戻る\n",
    "        words_df[word_tmp] = [1]#単語を一時リストに加えて１を足す\n",
    "    all_words_df = pd.concat([all_words_df, words_df] ,ignore_index=True)#結果を大きな表に加える\n",
    "print(len(all_words_df))\n",
    "all_words_df.head()"
   ]
  },
  {
   "cell_type": "code",
   "execution_count": null,
   "metadata": {
    "tags": []
   },
   "outputs": [],
   "source": [
    "#大きな表\n",
    "keywords_df= pd.DataFrame()\n",
    "\n",
    "#Excelの行ごとに処理\n",
    "for row in range(len(original_data)):#アンケートの行ごとに\n",
    "    text = original_data[comment_column_name].iloc[row]#行ごとの自由記述の取得\n",
    "    words = tagger.parse(text).splitlines()#自由記述を形態素解析\n",
    "#抽出した単語を入れる表\n",
    "    words_df = pd.DataFrame()#行ごとの単語を入れる\n",
    "#元の表のカテゴリー順を守るための編集（詳細要確認\n",
    "    for j in range(len(keywords_groups_names)):\n",
    "        words_df[keywords_groups_names[j]] = [0]\n",
    "#辞書情報を付けた単語ごとに\n",
    "    for i in words:#解析した辞書情報付き単語毎に\n",
    "        if i == \"EOS\" or i == \"\":\n",
    "            continue#EOSと空欄は飛ばす\n",
    "        word_tmp = i.split()[0]#単語を取得\n",
    "#キーワード毎に\n",
    "        for k in range(len(keywords_groups)):\n",
    "            if word_tmp in keywords_groups[k]:\n",
    "                words_df[keywords_groups_names[k]] = [1]#登録地名がある場合はアンケートの行に1を記入\n",
    "    keywords_df = pd.concat([keywords_df, words_df] ,ignore_index=True)#結果を大きな表に加える\n",
    "print(len(keywords_df))\n",
    "keywords_df.head()"
   ]
  },
  {
   "cell_type": "code",
   "execution_count": null,
   "metadata": {},
   "outputs": [],
   "source": [
    "all_words_df = pd.concat([keywords_df, all_words_df], axis=1)\n",
    "all_words_df.head()\n",
    "\n",
    "\"\"\"all_words_df = pd.merge(transfer_request_words_df,all_words_df,on=\"識別番号\",how=\"right\")\n",
    "print(len(all_words_df))\n",
    "all_words_df.head()\"\"\""
   ]
  },
  {
   "cell_type": "code",
   "execution_count": null,
   "metadata": {},
   "outputs": [],
   "source": [
    "all_words_df = all_words_df.fillna(0)\n",
    "all_words_df.head()"
   ]
  },
  {
   "cell_type": "code",
   "execution_count": null,
   "metadata": {},
   "outputs": [],
   "source": [
    "all_words_df = all_words_df.fillna(0)\n",
    "all_words_df.head()"
   ]
  },
  {
   "cell_type": "code",
   "execution_count": null,
   "metadata": {},
   "outputs": [],
   "source": [
    "Analysis_results = pd.concat([original_data, all_words_df],axis=1)#文章と単語解析を結合\n",
    "Analysis_results.head()"
   ]
  },
  {
   "cell_type": "code",
   "execution_count": null,
   "metadata": {},
   "outputs": [],
   "source": [
    "Analysis_results.to_csv(\"4元データと分析の結合.csv\",encoding=\"utf_8_sig\",index=True)"
   ]
  }
 ],
 "metadata": {
  "kernelspec": {
   "display_name": "Python 3",
   "language": "python",
   "name": "python3"
  },
  "language_info": {
   "codemirror_mode": {
    "name": "ipython",
    "version": 3
   },
   "file_extension": ".py",
   "mimetype": "text/x-python",
   "name": "python",
   "nbconvert_exporter": "python",
   "pygments_lexer": "ipython3",
   "version": "3.7.6-final"
  }
 },
 "nbformat": 4,
 "nbformat_minor": 2
}